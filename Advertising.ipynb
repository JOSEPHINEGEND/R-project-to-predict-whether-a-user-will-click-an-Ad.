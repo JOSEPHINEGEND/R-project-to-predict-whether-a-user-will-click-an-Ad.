{
  "nbformat": 4,
  "nbformat_minor": 0,
  "metadata": {
    "kernelspec": {
      "display_name": "R",
      "language": "R",
      "name": "ir"
    },
    "language_info": {
      "name": ""
    },
    "colab": {
      "name": "Advertising.ipynb",
      "provenance": [],
      "include_colab_link": true
    }
  },
  "cells": [
    {
      "cell_type": "markdown",
      "metadata": {
        "id": "view-in-github",
        "colab_type": "text"
      },
      "source": [
        "<a href=\"https://colab.research.google.com/github/JOSEPHINEGEND/R-project-to-predict-whether-a-user-will-click-an-Ad./blob/master/Advertising.ipynb\" target=\"_parent\"><img src=\"https://colab.research.google.com/assets/colab-badge.svg\" alt=\"Open In Colab\"/></a>"
      ]
    },
    {
      "cell_type": "markdown",
      "metadata": {
        "id": "6c4XnfdqMkFU",
        "colab_type": "text"
      },
      "source": [
        "* Research Question\n",
        "\n",
        "A Kenyan entrepreneur has created an online cryptography course and would want to advertise it on her blog. She currently targets audiences originating from various countries. In the past, she ran ads to advertise a related course on the same blog and collected data in the process. She would now like to employ your services as a Data Science Consultant to create a solution that would allow her to determine whether ads targeted to audiences of certain characteristics i.e. city, male country, ad topic, etc. would click on her ads. Ceate a prediction model that more accurately predicts whether a user will click an Ad.\n",
        "\n",
        "* Experimental Design\n",
        "\n",
        "1. Data Exploration/Cleaning\n",
        "2. Model Training\n",
        "3. Model Prediction\n",
        "4. Model Evaluation\n"
      ]
    },
    {
      "cell_type": "code",
      "metadata": {
        "id": "6zyJ9durMkFV",
        "colab_type": "code",
        "colab": {},
        "outputId": "66a95b69-f2f2-424b-ccbf-6b0a12dce8f7"
      },
      "source": [
        "install.packages(\"ggcorrplot\")"
      ],
      "execution_count": 0,
      "outputs": [
        {
          "output_type": "stream",
          "text": [
            "package 'ggcorrplot' successfully unpacked and MD5 sums checked\n",
            "\n",
            "The downloaded binary packages are in\n",
            "\tC:\\Users\\Josephine\\AppData\\Local\\Temp\\RtmpyIgHUR\\downloaded_packages\n"
          ],
          "name": "stdout"
        }
      ]
    },
    {
      "cell_type": "code",
      "metadata": {
        "id": "uRc2_bkqMkFZ",
        "colab_type": "code",
        "colab": {},
        "outputId": "8632ebce-bc81-4798-b588-00ae4fef01c2"
      },
      "source": [
        "# Importing Libraries we need for this Project analysis\n",
        "\n",
        "library(tidyverse)\n",
        "library(data.table)\n"
      ],
      "execution_count": 0,
      "outputs": [
        {
          "output_type": "stream",
          "text": [
            "Registered S3 methods overwritten by 'ggplot2':\n",
            "  method         from \n",
            "  [.quosures     rlang\n",
            "  c.quosures     rlang\n",
            "  print.quosures rlang\n",
            "Registered S3 method overwritten by 'rvest':\n",
            "  method            from\n",
            "  read_xml.response xml2\n",
            "-- Attaching packages --------------------------------------- tidyverse 1.2.1 --\n",
            "v ggplot2 3.1.1       v purrr   0.3.2  \n",
            "v tibble  2.1.1       v dplyr   0.8.0.1\n",
            "v tidyr   0.8.3       v stringr 1.4.0  \n",
            "v readr   1.3.1       v forcats 0.4.0  \n",
            "-- Conflicts ------------------------------------------ tidyverse_conflicts() --\n",
            "x dplyr::filter() masks stats::filter()\n",
            "x dplyr::lag()    masks stats::lag()\n",
            "\n",
            "Attaching package: 'data.table'\n",
            "\n",
            "The following objects are masked from 'package:dplyr':\n",
            "\n",
            "    between, first, last\n",
            "\n",
            "The following object is masked from 'package:purrr':\n",
            "\n",
            "    transpose\n",
            "\n"
          ],
          "name": "stderr"
        }
      ]
    },
    {
      "cell_type": "code",
      "metadata": {
        "id": "evlQhr1DMkFe",
        "colab_type": "code",
        "colab": {},
        "outputId": "926daacd-5404-4be2-a0e5-c92e2607dd83"
      },
      "source": [
        "# Reading a csv file\n",
        "adv <-read_csv(\"http://bit.ly/IPAdvertisingData\")"
      ],
      "execution_count": 0,
      "outputs": [
        {
          "output_type": "stream",
          "text": [
            "Parsed with column specification:\n",
            "cols(\n",
            "  `Daily Time Spent on Site` = col_double(),\n",
            "  Age = col_double(),\n",
            "  `Area Income` = col_double(),\n",
            "  `Daily Internet Usage` = col_double(),\n",
            "  `Ad Topic Line` = col_character(),\n",
            "  City = col_character(),\n",
            "  Male = col_double(),\n",
            "  Country = col_character(),\n",
            "  Timestamp = col_datetime(format = \"\"),\n",
            "  `Clicked on Ad` = col_double()\n",
            ")\n"
          ],
          "name": "stderr"
        }
      ]
    },
    {
      "cell_type": "code",
      "metadata": {
        "id": "wl4DBntRMkFj",
        "colab_type": "code",
        "colab": {},
        "outputId": "8369d17a-b24b-443d-c934-8da5ade3585e"
      },
      "source": [
        "# Viewing the top observations\n",
        "head(adv)"
      ],
      "execution_count": 0,
      "outputs": [
        {
          "output_type": "display_data",
          "data": {
            "text/html": [
              "<table>\n",
              "<thead><tr><th scope=col>Daily Time Spent on Site</th><th scope=col>Age</th><th scope=col>Area Income</th><th scope=col>Daily Internet Usage</th><th scope=col>Ad Topic Line</th><th scope=col>City</th><th scope=col>Male</th><th scope=col>Country</th><th scope=col>Timestamp</th><th scope=col>Clicked on Ad</th></tr></thead>\n",
              "<tbody>\n",
              "\t<tr><td>68.95                                </td><td>35                                   </td><td>61833.90                             </td><td>256.09                               </td><td>Cloned 5thgeneration orchestration   </td><td>Wrightburgh                          </td><td>0                                    </td><td>Tunisia                              </td><td>2016-03-27 00:53:11                  </td><td>0                                    </td></tr>\n",
              "\t<tr><td>80.23                                </td><td>31                                   </td><td>68441.85                             </td><td>193.77                               </td><td>Monitored national standardization   </td><td>West Jodi                            </td><td>1                                    </td><td>Nauru                                </td><td>2016-04-04 01:39:02                  </td><td>0                                    </td></tr>\n",
              "\t<tr><td>69.47                                </td><td>26                                   </td><td>59785.94                             </td><td>236.50                               </td><td>Organic bottom-line service-desk     </td><td>Davidton                             </td><td>0                                    </td><td>San Marino                           </td><td>2016-03-13 20:35:42                  </td><td>0                                    </td></tr>\n",
              "\t<tr><td>74.15                                </td><td>29                                   </td><td>54806.18                             </td><td>245.89                               </td><td>Triple-buffered reciprocal time-frame</td><td>West Terrifurt                       </td><td>1                                    </td><td>Italy                                </td><td>2016-01-10 02:31:19                  </td><td>0                                    </td></tr>\n",
              "\t<tr><td>68.37                                </td><td>35                                   </td><td>73889.99                             </td><td>225.58                               </td><td>Robust logistical utilization        </td><td>South Manuel                         </td><td>0                                    </td><td>Iceland                              </td><td>2016-06-03 03:36:18                  </td><td>0                                    </td></tr>\n",
              "\t<tr><td>59.99                                </td><td>23                                   </td><td>59761.56                             </td><td>226.74                               </td><td>Sharable client-driven software      </td><td>Jamieberg                            </td><td>1                                    </td><td>Norway                               </td><td>2016-05-19 14:30:17                  </td><td>0                                    </td></tr>\n",
              "</tbody>\n",
              "</table>\n"
            ],
            "text/latex": "\\begin{tabular}{r|llllllllll}\n Daily Time Spent on Site & Age & Area Income & Daily Internet Usage & Ad Topic Line & City & Male & Country & Timestamp & Clicked on Ad\\\\\n\\hline\n\t 68.95                                 & 35                                    & 61833.90                              & 256.09                                & Cloned 5thgeneration orchestration    & Wrightburgh                           & 0                                     & Tunisia                               & 2016-03-27 00:53:11                   & 0                                    \\\\\n\t 80.23                                 & 31                                    & 68441.85                              & 193.77                                & Monitored national standardization    & West Jodi                             & 1                                     & Nauru                                 & 2016-04-04 01:39:02                   & 0                                    \\\\\n\t 69.47                                 & 26                                    & 59785.94                              & 236.50                                & Organic bottom-line service-desk      & Davidton                              & 0                                     & San Marino                            & 2016-03-13 20:35:42                   & 0                                    \\\\\n\t 74.15                                 & 29                                    & 54806.18                              & 245.89                                & Triple-buffered reciprocal time-frame & West Terrifurt                        & 1                                     & Italy                                 & 2016-01-10 02:31:19                   & 0                                    \\\\\n\t 68.37                                 & 35                                    & 73889.99                              & 225.58                                & Robust logistical utilization         & South Manuel                          & 0                                     & Iceland                               & 2016-06-03 03:36:18                   & 0                                    \\\\\n\t 59.99                                 & 23                                    & 59761.56                              & 226.74                                & Sharable client-driven software       & Jamieberg                             & 1                                     & Norway                                & 2016-05-19 14:30:17                   & 0                                    \\\\\n\\end{tabular}\n",
            "text/markdown": "\n| Daily Time Spent on Site | Age | Area Income | Daily Internet Usage | Ad Topic Line | City | Male | Country | Timestamp | Clicked on Ad |\n|---|---|---|---|---|---|---|---|---|---|\n| 68.95                                 | 35                                    | 61833.90                              | 256.09                                | Cloned 5thgeneration orchestration    | Wrightburgh                           | 0                                     | Tunisia                               | 2016-03-27 00:53:11                   | 0                                     |\n| 80.23                                 | 31                                    | 68441.85                              | 193.77                                | Monitored national standardization    | West Jodi                             | 1                                     | Nauru                                 | 2016-04-04 01:39:02                   | 0                                     |\n| 69.47                                 | 26                                    | 59785.94                              | 236.50                                | Organic bottom-line service-desk      | Davidton                              | 0                                     | San Marino                            | 2016-03-13 20:35:42                   | 0                                     |\n| 74.15                                 | 29                                    | 54806.18                              | 245.89                                | Triple-buffered reciprocal time-frame | West Terrifurt                        | 1                                     | Italy                                 | 2016-01-10 02:31:19                   | 0                                     |\n| 68.37                                 | 35                                    | 73889.99                              | 225.58                                | Robust logistical utilization         | South Manuel                          | 0                                     | Iceland                               | 2016-06-03 03:36:18                   | 0                                     |\n| 59.99                                 | 23                                    | 59761.56                              | 226.74                                | Sharable client-driven software       | Jamieberg                             | 1                                     | Norway                                | 2016-05-19 14:30:17                   | 0                                     |\n\n",
            "text/plain": [
              "  Daily Time Spent on Site Age Area Income Daily Internet Usage\n",
              "1 68.95                    35  61833.90    256.09              \n",
              "2 80.23                    31  68441.85    193.77              \n",
              "3 69.47                    26  59785.94    236.50              \n",
              "4 74.15                    29  54806.18    245.89              \n",
              "5 68.37                    35  73889.99    225.58              \n",
              "6 59.99                    23  59761.56    226.74              \n",
              "  Ad Topic Line                         City           Male Country   \n",
              "1 Cloned 5thgeneration orchestration    Wrightburgh    0    Tunisia   \n",
              "2 Monitored national standardization    West Jodi      1    Nauru     \n",
              "3 Organic bottom-line service-desk      Davidton       0    San Marino\n",
              "4 Triple-buffered reciprocal time-frame West Terrifurt 1    Italy     \n",
              "5 Robust logistical utilization         South Manuel   0    Iceland   \n",
              "6 Sharable client-driven software       Jamieberg      1    Norway    \n",
              "  Timestamp           Clicked on Ad\n",
              "1 2016-03-27 00:53:11 0            \n",
              "2 2016-04-04 01:39:02 0            \n",
              "3 2016-03-13 20:35:42 0            \n",
              "4 2016-01-10 02:31:19 0            \n",
              "5 2016-06-03 03:36:18 0            \n",
              "6 2016-05-19 14:30:17 0            "
            ]
          },
          "metadata": {
            "tags": []
          }
        }
      ]
    },
    {
      "cell_type": "code",
      "metadata": {
        "id": "8D79yXJaMkFn",
        "colab_type": "code",
        "colab": {},
        "outputId": "e86fca53-4aea-4431-a490-53acf27ec85a"
      },
      "source": [
        "# Viewing the bottom observations\n",
        "tail(adv)"
      ],
      "execution_count": 0,
      "outputs": [
        {
          "output_type": "display_data",
          "data": {
            "text/html": [
              "<table>\n",
              "<thead><tr><th scope=col>Daily Time Spent on Site</th><th scope=col>Age</th><th scope=col>Area Income</th><th scope=col>Daily Internet Usage</th><th scope=col>Ad Topic Line</th><th scope=col>City</th><th scope=col>Male</th><th scope=col>Country</th><th scope=col>Timestamp</th><th scope=col>Clicked on Ad</th></tr></thead>\n",
              "<tbody>\n",
              "\t<tr><td>43.70                               </td><td>28                                  </td><td>63126.96                            </td><td>173.01                              </td><td>Front-line bifurcated ability       </td><td>Nicholasland                        </td><td>0                                   </td><td>Mayotte                             </td><td>2016-04-04 03:57:48                 </td><td>1                                   </td></tr>\n",
              "\t<tr><td>72.97                               </td><td>30                                  </td><td>71384.57                            </td><td>208.58                              </td><td>Fundamental modular algorithm       </td><td>Duffystad                           </td><td>1                                   </td><td>Lebanon                             </td><td>2016-02-11 21:49:00                 </td><td>1                                   </td></tr>\n",
              "\t<tr><td>51.30                               </td><td>45                                  </td><td>67782.17                            </td><td>134.42                              </td><td>Grass-roots cohesive monitoring     </td><td>New Darlene                         </td><td>1                                   </td><td>Bosnia and Herzegovina              </td><td>2016-04-22 02:07:01                 </td><td>1                                   </td></tr>\n",
              "\t<tr><td>51.63                               </td><td>51                                  </td><td>42415.72                            </td><td>120.37                              </td><td>Expanded intangible solution        </td><td>South Jessica                       </td><td>1                                   </td><td>Mongolia                            </td><td>2016-02-01 17:24:57                 </td><td>1                                   </td></tr>\n",
              "\t<tr><td>55.55                               </td><td>19                                  </td><td>41920.79                            </td><td>187.95                              </td><td>Proactive bandwidth-monitored policy</td><td>West Steven                         </td><td>0                                   </td><td>Guatemala                           </td><td>2016-03-24 02:35:54                 </td><td>0                                   </td></tr>\n",
              "\t<tr><td>45.01                               </td><td>26                                  </td><td>29875.80                            </td><td>178.35                              </td><td>Virtual 5thgeneration emulation     </td><td>Ronniemouth                         </td><td>0                                   </td><td>Brazil                              </td><td>2016-06-03 21:43:21                 </td><td>1                                   </td></tr>\n",
              "</tbody>\n",
              "</table>\n"
            ],
            "text/latex": "\\begin{tabular}{r|llllllllll}\n Daily Time Spent on Site & Age & Area Income & Daily Internet Usage & Ad Topic Line & City & Male & Country & Timestamp & Clicked on Ad\\\\\n\\hline\n\t 43.70                                & 28                                   & 63126.96                             & 173.01                               & Front-line bifurcated ability        & Nicholasland                         & 0                                    & Mayotte                              & 2016-04-04 03:57:48                  & 1                                   \\\\\n\t 72.97                                & 30                                   & 71384.57                             & 208.58                               & Fundamental modular algorithm        & Duffystad                            & 1                                    & Lebanon                              & 2016-02-11 21:49:00                  & 1                                   \\\\\n\t 51.30                                & 45                                   & 67782.17                             & 134.42                               & Grass-roots cohesive monitoring      & New Darlene                          & 1                                    & Bosnia and Herzegovina               & 2016-04-22 02:07:01                  & 1                                   \\\\\n\t 51.63                                & 51                                   & 42415.72                             & 120.37                               & Expanded intangible solution         & South Jessica                        & 1                                    & Mongolia                             & 2016-02-01 17:24:57                  & 1                                   \\\\\n\t 55.55                                & 19                                   & 41920.79                             & 187.95                               & Proactive bandwidth-monitored policy & West Steven                          & 0                                    & Guatemala                            & 2016-03-24 02:35:54                  & 0                                   \\\\\n\t 45.01                                & 26                                   & 29875.80                             & 178.35                               & Virtual 5thgeneration emulation      & Ronniemouth                          & 0                                    & Brazil                               & 2016-06-03 21:43:21                  & 1                                   \\\\\n\\end{tabular}\n",
            "text/markdown": "\n| Daily Time Spent on Site | Age | Area Income | Daily Internet Usage | Ad Topic Line | City | Male | Country | Timestamp | Clicked on Ad |\n|---|---|---|---|---|---|---|---|---|---|\n| 43.70                                | 28                                   | 63126.96                             | 173.01                               | Front-line bifurcated ability        | Nicholasland                         | 0                                    | Mayotte                              | 2016-04-04 03:57:48                  | 1                                    |\n| 72.97                                | 30                                   | 71384.57                             | 208.58                               | Fundamental modular algorithm        | Duffystad                            | 1                                    | Lebanon                              | 2016-02-11 21:49:00                  | 1                                    |\n| 51.30                                | 45                                   | 67782.17                             | 134.42                               | Grass-roots cohesive monitoring      | New Darlene                          | 1                                    | Bosnia and Herzegovina               | 2016-04-22 02:07:01                  | 1                                    |\n| 51.63                                | 51                                   | 42415.72                             | 120.37                               | Expanded intangible solution         | South Jessica                        | 1                                    | Mongolia                             | 2016-02-01 17:24:57                  | 1                                    |\n| 55.55                                | 19                                   | 41920.79                             | 187.95                               | Proactive bandwidth-monitored policy | West Steven                          | 0                                    | Guatemala                            | 2016-03-24 02:35:54                  | 0                                    |\n| 45.01                                | 26                                   | 29875.80                             | 178.35                               | Virtual 5thgeneration emulation      | Ronniemouth                          | 0                                    | Brazil                               | 2016-06-03 21:43:21                  | 1                                    |\n\n",
            "text/plain": [
              "  Daily Time Spent on Site Age Area Income Daily Internet Usage\n",
              "1 43.70                    28  63126.96    173.01              \n",
              "2 72.97                    30  71384.57    208.58              \n",
              "3 51.30                    45  67782.17    134.42              \n",
              "4 51.63                    51  42415.72    120.37              \n",
              "5 55.55                    19  41920.79    187.95              \n",
              "6 45.01                    26  29875.80    178.35              \n",
              "  Ad Topic Line                        City          Male\n",
              "1 Front-line bifurcated ability        Nicholasland  0   \n",
              "2 Fundamental modular algorithm        Duffystad     1   \n",
              "3 Grass-roots cohesive monitoring      New Darlene   1   \n",
              "4 Expanded intangible solution         South Jessica 1   \n",
              "5 Proactive bandwidth-monitored policy West Steven   0   \n",
              "6 Virtual 5thgeneration emulation      Ronniemouth   0   \n",
              "  Country                Timestamp           Clicked on Ad\n",
              "1 Mayotte                2016-04-04 03:57:48 1            \n",
              "2 Lebanon                2016-02-11 21:49:00 1            \n",
              "3 Bosnia and Herzegovina 2016-04-22 02:07:01 1            \n",
              "4 Mongolia               2016-02-01 17:24:57 1            \n",
              "5 Guatemala              2016-03-24 02:35:54 0            \n",
              "6 Brazil                 2016-06-03 21:43:21 1            "
            ]
          },
          "metadata": {
            "tags": []
          }
        }
      ]
    },
    {
      "cell_type": "code",
      "metadata": {
        "id": "Q5l9i-y_MkFr",
        "colab_type": "code",
        "colab": {},
        "outputId": "5897bb96-07ae-4aba-f394-56206fb36400"
      },
      "source": [
        "# Checking the number of rows and columns\n",
        "dim(adv)"
      ],
      "execution_count": 0,
      "outputs": [
        {
          "output_type": "display_data",
          "data": {
            "text/html": [
              "<ol class=list-inline>\n",
              "\t<li>1000</li>\n",
              "\t<li>10</li>\n",
              "</ol>\n"
            ],
            "text/latex": "\\begin{enumerate*}\n\\item 1000\n\\item 10\n\\end{enumerate*}\n",
            "text/markdown": "1. 1000\n2. 10\n\n\n",
            "text/plain": [
              "[1] 1000   10"
            ]
          },
          "metadata": {
            "tags": []
          }
        }
      ]
    },
    {
      "cell_type": "markdown",
      "metadata": {
        "id": "2JW1fackMkFw",
        "colab_type": "text"
      },
      "source": [
        "There are 1000 rows and 10 columns."
      ]
    },
    {
      "cell_type": "code",
      "metadata": {
        "id": "oY6SK-iKMkFy",
        "colab_type": "code",
        "colab": {},
        "outputId": "22533a1b-0b31-4100-a3e2-3300705ddf8e"
      },
      "source": [
        "# checking the types of attributes (columns)\n",
        "sapply(adv, class)"
      ],
      "execution_count": 0,
      "outputs": [
        {
          "output_type": "display_data",
          "data": {
            "text/html": [
              "<dl>\n",
              "\t<dt>$`Daily Time Spent on Site`</dt>\n",
              "\t\t<dd>'numeric'</dd>\n",
              "\t<dt>$Age</dt>\n",
              "\t\t<dd>'numeric'</dd>\n",
              "\t<dt>$`Area Income`</dt>\n",
              "\t\t<dd>'numeric'</dd>\n",
              "\t<dt>$`Daily Internet Usage`</dt>\n",
              "\t\t<dd>'numeric'</dd>\n",
              "\t<dt>$`Ad Topic Line`</dt>\n",
              "\t\t<dd>'character'</dd>\n",
              "\t<dt>$City</dt>\n",
              "\t\t<dd>'character'</dd>\n",
              "\t<dt>$Male</dt>\n",
              "\t\t<dd>'numeric'</dd>\n",
              "\t<dt>$Country</dt>\n",
              "\t\t<dd>'character'</dd>\n",
              "\t<dt>$Timestamp</dt>\n",
              "\t\t<dd><ol class=list-inline>\n",
              "\t<li>'POSIXct'</li>\n",
              "\t<li>'POSIXt'</li>\n",
              "</ol>\n",
              "</dd>\n",
              "\t<dt>$`Clicked on Ad`</dt>\n",
              "\t\t<dd>'numeric'</dd>\n",
              "</dl>\n"
            ],
            "text/latex": "\\begin{description}\n\\item[\\$`Daily Time Spent on Site`] 'numeric'\n\\item[\\$Age] 'numeric'\n\\item[\\$`Area Income`] 'numeric'\n\\item[\\$`Daily Internet Usage`] 'numeric'\n\\item[\\$`Ad Topic Line`] 'character'\n\\item[\\$City] 'character'\n\\item[\\$Male] 'numeric'\n\\item[\\$Country] 'character'\n\\item[\\$Timestamp] \\begin{enumerate*}\n\\item 'POSIXct'\n\\item 'POSIXt'\n\\end{enumerate*}\n\n\\item[\\$`Clicked on Ad`] 'numeric'\n\\end{description}\n",
            "text/markdown": "$`Daily Time Spent on Site`\n:   'numeric'\n$Age\n:   'numeric'\n$`Area Income`\n:   'numeric'\n$`Daily Internet Usage`\n:   'numeric'\n$`Ad Topic Line`\n:   'character'\n$City\n:   'character'\n$Male\n:   'numeric'\n$Country\n:   'character'\n$Timestamp\n:   1. 'POSIXct'\n2. 'POSIXt'\n\n\n\n$`Clicked on Ad`\n:   'numeric'\n\n\n",
            "text/plain": [
              "$`Daily Time Spent on Site`\n",
              "[1] \"numeric\"\n",
              "\n",
              "$Age\n",
              "[1] \"numeric\"\n",
              "\n",
              "$`Area Income`\n",
              "[1] \"numeric\"\n",
              "\n",
              "$`Daily Internet Usage`\n",
              "[1] \"numeric\"\n",
              "\n",
              "$`Ad Topic Line`\n",
              "[1] \"character\"\n",
              "\n",
              "$City\n",
              "[1] \"character\"\n",
              "\n",
              "$Male\n",
              "[1] \"numeric\"\n",
              "\n",
              "$Country\n",
              "[1] \"character\"\n",
              "\n",
              "$Timestamp\n",
              "[1] \"POSIXct\" \"POSIXt\" \n",
              "\n",
              "$`Clicked on Ad`\n",
              "[1] \"numeric\"\n"
            ]
          },
          "metadata": {
            "tags": []
          }
        }
      ]
    },
    {
      "cell_type": "code",
      "metadata": {
        "id": "v5ArMROKMkF2",
        "colab_type": "code",
        "colab": {},
        "outputId": "5196f73b-b2c5-4f24-f4e8-bd47c46ea4da"
      },
      "source": [
        "# checking the summary statistics of the dataset\n",
        "summary(adv)"
      ],
      "execution_count": 0,
      "outputs": [
        {
          "output_type": "display_data",
          "data": {
            "text/plain": [
              " Daily Time Spent on Site      Age         Area Income    Daily Internet Usage\n",
              " Min.   :32.60            Min.   :19.00   Min.   :13996   Min.   :104.8       \n",
              " 1st Qu.:51.36            1st Qu.:29.00   1st Qu.:47032   1st Qu.:138.8       \n",
              " Median :68.22            Median :35.00   Median :57012   Median :183.1       \n",
              " Mean   :65.00            Mean   :36.01   Mean   :55000   Mean   :180.0       \n",
              " 3rd Qu.:78.55            3rd Qu.:42.00   3rd Qu.:65471   3rd Qu.:218.8       \n",
              " Max.   :91.43            Max.   :61.00   Max.   :79485   Max.   :270.0       \n",
              " Ad Topic Line          City                Male         Country         \n",
              " Length:1000        Length:1000        Min.   :0.000   Length:1000       \n",
              " Class :character   Class :character   1st Qu.:0.000   Class :character  \n",
              " Mode  :character   Mode  :character   Median :0.000   Mode  :character  \n",
              "                                       Mean   :0.481                     \n",
              "                                       3rd Qu.:1.000                     \n",
              "                                       Max.   :1.000                     \n",
              "   Timestamp                   Clicked on Ad\n",
              " Min.   :2016-01-01 02:52:10   Min.   :0.0  \n",
              " 1st Qu.:2016-02-18 02:55:42   1st Qu.:0.0  \n",
              " Median :2016-04-07 17:27:29   Median :0.5  \n",
              " Mean   :2016-04-10 10:34:06   Mean   :0.5  \n",
              " 3rd Qu.:2016-05-31 03:18:14   3rd Qu.:1.0  \n",
              " Max.   :2016-07-24 00:22:16   Max.   :1.0  "
            ]
          },
          "metadata": {
            "tags": []
          }
        }
      ]
    },
    {
      "cell_type": "code",
      "metadata": {
        "id": "dTgZxL6RMkF7",
        "colab_type": "code",
        "colab": {},
        "outputId": "a4a6ddb5-d042-46d4-c6cc-7e418003dddf"
      },
      "source": [
        "# A summary information of the dataset\n",
        "glimpse(adv)"
      ],
      "execution_count": 0,
      "outputs": [
        {
          "output_type": "stream",
          "text": [
            "Observations: 1,000\n",
            "Variables: 10\n",
            "$ `Daily Time Spent on Site` <dbl> 68.95, 80.23, 69.47, 74.15, 68.37, 59.99...\n",
            "$ Age                        <dbl> 35, 31, 26, 29, 35, 23, 33, 48, 30, 20, ...\n",
            "$ `Area Income`              <dbl> 61833.90, 68441.85, 59785.94, 54806.18, ...\n",
            "$ `Daily Internet Usage`     <dbl> 256.09, 193.77, 236.50, 245.89, 225.58, ...\n",
            "$ `Ad Topic Line`            <chr> \"Cloned 5thgeneration orchestration\", \"M...\n",
            "$ City                       <chr> \"Wrightburgh\", \"West Jodi\", \"Davidton\", ...\n",
            "$ Male                       <dbl> 0, 1, 0, 1, 0, 1, 0, 1, 1, 1, 0, 1, 1, 0...\n",
            "$ Country                    <chr> \"Tunisia\", \"Nauru\", \"San Marino\", \"Italy...\n",
            "$ Timestamp                  <dttm> 2016-03-27 00:53:11, 2016-04-04 01:39:0...\n",
            "$ `Clicked on Ad`            <dbl> 0, 0, 0, 0, 0, 0, 0, 1, 0, 0, 1, 0, 1, 0...\n"
          ],
          "name": "stdout"
        }
      ]
    },
    {
      "cell_type": "markdown",
      "metadata": {
        "id": "e9n7vCKFMkGA",
        "colab_type": "text"
      },
      "source": [
        "The glimpse output shows the datatypes of each column and a few observations."
      ]
    },
    {
      "cell_type": "markdown",
      "metadata": {
        "id": "EObMZkfgMkGC",
        "colab_type": "text"
      },
      "source": [
        "# DATA CLEANING"
      ]
    },
    {
      "cell_type": "code",
      "metadata": {
        "id": "lry27fKXMkGE",
        "colab_type": "code",
        "colab": {},
        "outputId": "a4a4117b-eecb-4cbf-ef93-e8242dabbe28"
      },
      "source": [
        "# Completeness:\n",
        "# Checking for missing values\n",
        "\n",
        "colSums(is.na(adv))"
      ],
      "execution_count": 0,
      "outputs": [
        {
          "output_type": "display_data",
          "data": {
            "text/html": [
              "<dl class=dl-horizontal>\n",
              "\t<dt>Daily Time Spent on Site</dt>\n",
              "\t\t<dd>0</dd>\n",
              "\t<dt>Age</dt>\n",
              "\t\t<dd>0</dd>\n",
              "\t<dt>Area Income</dt>\n",
              "\t\t<dd>0</dd>\n",
              "\t<dt>Daily Internet Usage</dt>\n",
              "\t\t<dd>0</dd>\n",
              "\t<dt>Ad Topic Line</dt>\n",
              "\t\t<dd>0</dd>\n",
              "\t<dt>City</dt>\n",
              "\t\t<dd>0</dd>\n",
              "\t<dt>Male</dt>\n",
              "\t\t<dd>0</dd>\n",
              "\t<dt>Country</dt>\n",
              "\t\t<dd>0</dd>\n",
              "\t<dt>Timestamp</dt>\n",
              "\t\t<dd>0</dd>\n",
              "\t<dt>Clicked on Ad</dt>\n",
              "\t\t<dd>0</dd>\n",
              "</dl>\n"
            ],
            "text/latex": "\\begin{description*}\n\\item[Daily Time Spent on Site] 0\n\\item[Age] 0\n\\item[Area Income] 0\n\\item[Daily Internet Usage] 0\n\\item[Ad Topic Line] 0\n\\item[City] 0\n\\item[Male] 0\n\\item[Country] 0\n\\item[Timestamp] 0\n\\item[Clicked on Ad] 0\n\\end{description*}\n",
            "text/markdown": "Daily Time Spent on Site\n:   0Age\n:   0Area Income\n:   0Daily Internet Usage\n:   0Ad Topic Line\n:   0City\n:   0Male\n:   0Country\n:   0Timestamp\n:   0Clicked on Ad\n:   0\n\n",
            "text/plain": [
              "Daily Time Spent on Site                      Age              Area Income \n",
              "                       0                        0                        0 \n",
              "    Daily Internet Usage            Ad Topic Line                     City \n",
              "                       0                        0                        0 \n",
              "                    Male                  Country                Timestamp \n",
              "                       0                        0                        0 \n",
              "           Clicked on Ad \n",
              "                       0 "
            ]
          },
          "metadata": {
            "tags": []
          }
        }
      ]
    },
    {
      "cell_type": "markdown",
      "metadata": {
        "id": "OQtRJgEmMkGI",
        "colab_type": "text"
      },
      "source": [
        "There are no missing values in the dataset from the output."
      ]
    },
    {
      "cell_type": "code",
      "metadata": {
        "id": "y9GyvR7AMkGJ",
        "colab_type": "code",
        "colab": {}
      },
      "source": [
        "# checking for duplicates\n",
        "# The function distinct() [dplyr package] can be used to keep only unique/distinct rows from a data frame.\n",
        "# If there are duplicate rows, only the first row is preserved. \n",
        "# It’s an efficient version of the R base function unique().\n",
        "\n",
        "# unique(adv)\n",
        "#distinct(adv)"
      ],
      "execution_count": 0,
      "outputs": []
    },
    {
      "cell_type": "markdown",
      "metadata": {
        "id": "nWjUVLj4MkGN",
        "colab_type": "text"
      },
      "source": [
        "## Fixing spaces in the column names"
      ]
    },
    {
      "cell_type": "code",
      "metadata": {
        "id": "Twi0e7PSMkGO",
        "colab_type": "code",
        "colab": {},
        "outputId": "03cf45c0-8429-4c6a-daae-c43e9433241e"
      },
      "source": [
        "# Checking the column names\n",
        "names(adv)"
      ],
      "execution_count": 0,
      "outputs": [
        {
          "output_type": "display_data",
          "data": {
            "text/html": [
              "<ol class=list-inline>\n",
              "\t<li>'Daily Time Spent on Site'</li>\n",
              "\t<li>'Age'</li>\n",
              "\t<li>'Area Income'</li>\n",
              "\t<li>'Daily Internet Usage'</li>\n",
              "\t<li>'Ad Topic Line'</li>\n",
              "\t<li>'City'</li>\n",
              "\t<li>'Male'</li>\n",
              "\t<li>'Country'</li>\n",
              "\t<li>'Timestamp'</li>\n",
              "\t<li>'Clicked on Ad'</li>\n",
              "</ol>\n"
            ],
            "text/latex": "\\begin{enumerate*}\n\\item 'Daily Time Spent on Site'\n\\item 'Age'\n\\item 'Area Income'\n\\item 'Daily Internet Usage'\n\\item 'Ad Topic Line'\n\\item 'City'\n\\item 'Male'\n\\item 'Country'\n\\item 'Timestamp'\n\\item 'Clicked on Ad'\n\\end{enumerate*}\n",
            "text/markdown": "1. 'Daily Time Spent on Site'\n2. 'Age'\n3. 'Area Income'\n4. 'Daily Internet Usage'\n5. 'Ad Topic Line'\n6. 'City'\n7. 'Male'\n8. 'Country'\n9. 'Timestamp'\n10. 'Clicked on Ad'\n\n\n",
            "text/plain": [
              " [1] \"Daily Time Spent on Site\" \"Age\"                     \n",
              " [3] \"Area Income\"              \"Daily Internet Usage\"    \n",
              " [5] \"Ad Topic Line\"            \"City\"                    \n",
              " [7] \"Male\"                     \"Country\"                 \n",
              " [9] \"Timestamp\"                \"Clicked on Ad\"           "
            ]
          },
          "metadata": {
            "tags": []
          }
        }
      ]
    },
    {
      "cell_type": "code",
      "metadata": {
        "id": "SKBJcM8YMkGU",
        "colab_type": "code",
        "colab": {}
      },
      "source": [
        "# Replacing spaces in the columns names with an underscore\n",
        "names(adv) <- gsub(\" \", \"_\", names(adv))"
      ],
      "execution_count": 0,
      "outputs": []
    },
    {
      "cell_type": "code",
      "metadata": {
        "id": "E-ToBcQDMkGY",
        "colab_type": "code",
        "colab": {},
        "outputId": "81c94244-7c8f-406b-b34e-3392b68f27c6"
      },
      "source": [
        "# Confirming the columns names have changed\n",
        "names(adv) "
      ],
      "execution_count": 0,
      "outputs": [
        {
          "output_type": "display_data",
          "data": {
            "text/html": [
              "<ol class=list-inline>\n",
              "\t<li>'Daily_Time_Spent_on_Site'</li>\n",
              "\t<li>'Age'</li>\n",
              "\t<li>'Area_Income'</li>\n",
              "\t<li>'Daily_Internet_Usage'</li>\n",
              "\t<li>'Ad_Topic_Line'</li>\n",
              "\t<li>'City'</li>\n",
              "\t<li>'Male'</li>\n",
              "\t<li>'Country'</li>\n",
              "\t<li>'Timestamp'</li>\n",
              "\t<li>'Clicked_on_Ad'</li>\n",
              "</ol>\n"
            ],
            "text/latex": "\\begin{enumerate*}\n\\item 'Daily\\_Time\\_Spent\\_on\\_Site'\n\\item 'Age'\n\\item 'Area\\_Income'\n\\item 'Daily\\_Internet\\_Usage'\n\\item 'Ad\\_Topic\\_Line'\n\\item 'City'\n\\item 'Male'\n\\item 'Country'\n\\item 'Timestamp'\n\\item 'Clicked\\_on\\_Ad'\n\\end{enumerate*}\n",
            "text/markdown": "1. 'Daily_Time_Spent_on_Site'\n2. 'Age'\n3. 'Area_Income'\n4. 'Daily_Internet_Usage'\n5. 'Ad_Topic_Line'\n6. 'City'\n7. 'Male'\n8. 'Country'\n9. 'Timestamp'\n10. 'Clicked_on_Ad'\n\n\n",
            "text/plain": [
              " [1] \"Daily_Time_Spent_on_Site\" \"Age\"                     \n",
              " [3] \"Area_Income\"              \"Daily_Internet_Usage\"    \n",
              " [5] \"Ad_Topic_Line\"            \"City\"                    \n",
              " [7] \"Male\"                     \"Country\"                 \n",
              " [9] \"Timestamp\"                \"Clicked_on_Ad\"           "
            ]
          },
          "metadata": {
            "tags": []
          }
        }
      ]
    },
    {
      "cell_type": "markdown",
      "metadata": {
        "id": "DJkELuhzMkGc",
        "colab_type": "text"
      },
      "source": [
        "# Outliers"
      ]
    },
    {
      "cell_type": "code",
      "metadata": {
        "id": "zRtznX5cMkGd",
        "colab_type": "code",
        "colab": {},
        "outputId": "8a9d770a-df3c-46fd-8f2a-4e3d0615d822"
      },
      "source": [
        "# Using a boxplot to check for observations far away from other data points.\n",
        "# Using all three double type columns\n",
        "\n",
        "Daily_Time_Spent_on_Site <- adv$Daily_Time_Spent_on_Site\n",
        "Age <- adv$Age\n",
        "Daily_Internet_Usage <- adv$Daily_Internet_Usage\n",
        " \n",
        "\n",
        "boxplot(Daily_Time_Spent_on_Site,Age, Daily_Internet_Usage,\n",
        "main = \"Multiple boxplots for comparision\",\n",
        "at = c(1,2,3),\n",
        "names = c(\"Daily_Time_Spent_on_Site\", \"Age\",\"Daily_Internet_Usage\"),\n",
        "las = 2,\n",
        "col = c(\"orange\",\"red\",\"blue\"),\n",
        "border = \"brown\",\n",
        "horizontal = TRUE,\n",
        "notch = TRUE\n",
        ")\n"
      ],
      "execution_count": 0,
      "outputs": [
        {
          "output_type": "display_data",
          "data": {
            "image/png": "[encoded data removed]",
            "text/plain": [
              "Plot with title \"Multiple boxplots for comparision\""
            ]
          },
          "metadata": {
            "tags": []
          }
        }
      ]
    },
    {
      "cell_type": "markdown",
      "metadata": {
        "id": "1wZzZ1UkMkGg",
        "colab_type": "text"
      },
      "source": [
        "There are no outliers in the three features plotted"
      ]
    },
    {
      "cell_type": "code",
      "metadata": {
        "id": "avH11UCLMkGo",
        "colab_type": "code",
        "colab": {},
        "outputId": "98f43a35-b0e6-4b98-e70e-0ab6152edcf2"
      },
      "source": [
        "# Boxplot for the Area Income\n",
        "boxplot(adv$Area_Income,\n",
        "main = \"Area Income Boxplot\",\n",
        "xlab = \"Area Income\",\n",
        "col = \"orange\",\n",
        "border = \"brown\",\n",
        "horizontal = TRUE,\n",
        "notch = TRUE\n",
        ")\n"
      ],
      "execution_count": 0,
      "outputs": [
        {
          "output_type": "display_data",
          "data": {
            "image/png": "[encoded data removed]",
            "text/plain": [
              "Plot with title \"Area Income Boxplot\""
            ]
          },
          "metadata": {
            "tags": []
          }
        }
      ]
    },
    {
      "cell_type": "markdown",
      "metadata": {
        "id": "ZnMeVvWGMkGv",
        "colab_type": "text"
      },
      "source": [
        "There are a few outliers on the first quartile of the are income boxplot."
      ]
    },
    {
      "cell_type": "markdown",
      "metadata": {
        "id": "2H6yPnSRMkGy",
        "colab_type": "text"
      },
      "source": [
        "# Visualizations"
      ]
    },
    {
      "cell_type": "code",
      "metadata": {
        "id": "SbXrr_n_MkGz",
        "colab_type": "code",
        "colab": {},
        "outputId": "f6eb1dc6-6a90-494f-8417-98db7b2aab00"
      },
      "source": [
        "# Stacked bar chart\n",
        "\n",
        "counts <- table(adv$Clicked_on_Ad, adv$Age)\n",
        "barplot(counts,\n",
        "  main=\"A stacked bar chart showing Clicked on Ad by Age\",\n",
        "  xlab=\"Age\",\n",
        "  ylab = \"Frequency\",\n",
        "  col=c(\"darkblue\",\"red\"),\n",
        "  legend = rownames(counts))"
      ],
      "execution_count": 0,
      "outputs": [
        {
          "output_type": "display_data",
          "data": {
            "image/png": "[encoded data removed]",
            "text/plain": [
              "Plot with title \"A stacked bar chart showing Clicked on Ad by Age\""
            ]
          },
          "metadata": {
            "tags": []
          }
        }
      ]
    },
    {
      "cell_type": "markdown",
      "metadata": {
        "id": "F1VO2qhyMkG4",
        "colab_type": "text"
      },
      "source": [
        "* The stacked bar chart shows the distribution of the number of people who clicked on an Ad by age.\n",
        "* The highest age of the participants was 61 and lowest was 19.\n",
        "* The people who cliked most on Ads were between age 28 to 36."
      ]
    },
    {
      "cell_type": "code",
      "metadata": {
        "id": "6Oph6AsEMkG5",
        "colab_type": "code",
        "colab": {},
        "outputId": "c8fe6dc0-7116-4b9c-ce6f-698b0fe39e64"
      },
      "source": [
        "# Stacked bar chart\n",
        "\n",
        "counts <- table(adv$Clicked_on_Ad, adv$Male)\n",
        "barplot(counts,\n",
        "  main=\"A stacked bar chart showing Clicked on Ad by Gender\",\n",
        "  xlab=\"Gender\",\n",
        "  ylab = \"Frequency\",\n",
        "  col=c(\"cyan\",\"green\"),\n",
        "  legend = rownames(counts))"
      ],
      "execution_count": 0,
      "outputs": [
        {
          "output_type": "display_data",
          "data": {
            "image/png": "[encoded data removed]",
            "text/plain": [
              "Plot with title \"A stacked bar chart showing Clicked on Ad by Gender\""
            ]
          },
          "metadata": {
            "tags": []
          }
        }
      ]
    },
    {
      "cell_type": "code",
      "metadata": {
        "id": "J2nWysIFMkG-",
        "colab_type": "code",
        "colab": {}
      },
      "source": [
        "* There are slightly more females than males in the dataset.\n",
        "* More females clicked on Ad compared to males."
      ],
      "execution_count": 0,
      "outputs": []
    },
    {
      "cell_type": "code",
      "metadata": {
        "id": "WYFm72cyMkHD",
        "colab_type": "code",
        "colab": {},
        "outputId": "4f4f76cd-4283-4507-f6e7-899978052efc"
      },
      "source": [
        "# Bar chart of the target variable\n",
        "\n",
        "counts <- table(adv$Clicked_on_Ad)\n",
        "barplot(counts,\n",
        "  main=\"A bar chart showing Clicked on Ad distribution\",\n",
        "  xlab=\"Clicked on Ad or Not\",\n",
        "  ylab = \"Frequency\",\n",
        "  col=c(\"magenta\",\"gold\"),\n",
        "  legend = rownames(counts))"
      ],
      "execution_count": 0,
      "outputs": [
        {
          "output_type": "display_data",
          "data": {
            "image/png": "[encoded data removed]",
            "text/plain": [
              "Plot with title \"A bar chart showing Clicked on Ad distribution\""
            ]
          },
          "metadata": {
            "tags": []
          }
        }
      ]
    },
    {
      "cell_type": "markdown",
      "metadata": {
        "id": "zMhTjC4SMkHG",
        "colab_type": "text"
      },
      "source": [
        "* The data is balanced since the number of people who clicked on Ad and those who did not are equal.\n"
      ]
    },
    {
      "cell_type": "code",
      "metadata": {
        "id": "UeFOO1w2MkHI",
        "colab_type": "code",
        "colab": {},
        "outputId": "6322eb60-0a4c-4f52-c332-54b15e9d033c"
      },
      "source": [
        "# A violin plot\n",
        "\n",
        "ggplot(adv, \n",
        "       aes(x = Clicked_on_Ad, \n",
        "           y = Daily_Internet_Usage)) +\n",
        "  geom_violin(fill = \"cornflowerblue\") +\n",
        "  geom_boxplot(width = .2, \n",
        "               fill = \"orange\",\n",
        "               outlier.color = \"orange\",\n",
        "               outlier.size = 2) + \n",
        "  labs(title = \"Daily internet usage for people who clicked the ad\")"
      ],
      "execution_count": 0,
      "outputs": [
        {
          "output_type": "stream",
          "text": [
            "Warning message:\n",
            "\"Continuous x aesthetic -- did you forget aes(group=...)?\""
          ],
          "name": "stderr"
        },
        {
          "output_type": "display_data",
          "data": {
            "image/png": "[encoded data removed]",
            "text/plain": [
              "plot without title"
            ]
          },
          "metadata": {
            "tags": []
          }
        }
      ]
    },
    {
      "cell_type": "markdown",
      "metadata": {
        "id": "4qfGaiWMMkHO",
        "colab_type": "text"
      },
      "source": [
        "* People who click on Ad spend Daily internet amount between 135 and 220.\n",
        "* There are no outliers."
      ]
    },
    {
      "cell_type": "code",
      "metadata": {
        "id": "wR7rJhT5MkHP",
        "colab_type": "code",
        "colab": {},
        "outputId": "5fac9cf1-d49b-4a39-af62-93e03ecae595"
      },
      "source": [
        "# Heat map\n",
        "# Numeric variables\n",
        "numeric_tbl <- adv %>%\n",
        "  select_if(is.numeric) %>%\n",
        "  select(Daily_Time_Spent_on_Site, Age, Area_Income,Daily_Internet_Usage)\n",
        "\n",
        "# Calculate the correlations\n",
        "corr <- cor(numeric_tbl, use = \"complete.obs\")\n",
        "\n",
        "ggcorrplot(round(corr, 2), \n",
        "           type = \"full\", lab = T)"
      ],
      "execution_count": 0,
      "outputs": [
        {
          "output_type": "display_data",
          "data": {
            "image/png": "[encoded data removed]",
            "text/plain": [
              "plot without title"
            ]
          },
          "metadata": {
            "tags": []
          }
        }
      ]
    },
    {
      "cell_type": "markdown",
      "metadata": {
        "id": "Acv_7OXHMkHS",
        "colab_type": "text"
      },
      "source": [
        "* There is a moderate relationship between daily time spent on the site and and daily internet usage.\n",
        "* Other variables have weak relationships."
      ]
    },
    {
      "cell_type": "markdown",
      "metadata": {
        "id": "8-JvlXi1MkHT",
        "colab_type": "text"
      },
      "source": [
        "# MODELLING"
      ]
    },
    {
      "cell_type": "code",
      "metadata": {
        "id": "OhZA3ukNMkHU",
        "colab_type": "code",
        "colab": {},
        "outputId": "7b309e59-13bb-4d32-d3b2-cf9b1056a03a"
      },
      "source": [
        "# Instaling packages we need for modelling\n",
        "# These packages are useful while using Support Vector Classification model\n",
        "\n",
        "install.packages(\"e1071\")\n",
        "library(e1071)\n",
        "install.packages(\"kernlab\")\n",
        "library(kernlab)"
      ],
      "execution_count": 0,
      "outputs": [
        {
          "output_type": "stream",
          "text": [
            "package 'e1071' successfully unpacked and MD5 sums checked\n",
            "\n",
            "The downloaded binary packages are in\n",
            "\tC:\\Users\\Josephine\\AppData\\Local\\Temp\\RtmpyIgHUR\\downloaded_packages\n",
            "package 'kernlab' successfully unpacked and MD5 sums checked\n",
            "\n",
            "The downloaded binary packages are in\n",
            "\tC:\\Users\\Josephine\\AppData\\Local\\Temp\\RtmpyIgHUR\\downloaded_packages\n"
          ],
          "name": "stdout"
        },
        {
          "output_type": "stream",
          "text": [
            "\n",
            "Attaching package: 'kernlab'\n",
            "\n",
            "The following object is masked from 'package:purrr':\n",
            "\n",
            "    cross\n",
            "\n",
            "The following object is masked from 'package:ggplot2':\n",
            "\n",
            "    alpha\n",
            "\n"
          ],
          "name": "stderr"
        }
      ]
    },
    {
      "cell_type": "code",
      "metadata": {
        "id": "LLenwNikMkHc",
        "colab_type": "code",
        "colab": {},
        "outputId": "e96ab5d0-27b5-4019-f3eb-28231619a683"
      },
      "source": [
        "glimpse(adv)"
      ],
      "execution_count": 0,
      "outputs": [
        {
          "output_type": "stream",
          "text": [
            "Observations: 1,000\n",
            "Variables: 10\n",
            "$ Daily_Time_Spent_on_Site <dbl> 68.95, 80.23, 69.47, 74.15, 68.37, 59.99, ...\n",
            "$ Age                      <dbl> 35, 31, 26, 29, 35, 23, 33, 48, 30, 20, 49...\n",
            "$ Area_Income              <dbl> 61833.90, 68441.85, 59785.94, 54806.18, 73...\n",
            "$ Daily_Internet_Usage     <dbl> 256.09, 193.77, 236.50, 245.89, 225.58, 22...\n",
            "$ Ad_Topic_Line            <chr> \"Cloned 5thgeneration orchestration\", \"Mon...\n",
            "$ City                     <chr> \"Wrightburgh\", \"West Jodi\", \"Davidton\", \"W...\n",
            "$ Male                     <dbl> 0, 1, 0, 1, 0, 1, 0, 1, 1, 1, 0, 1, 1, 0, ...\n",
            "$ Country                  <chr> \"Tunisia\", \"Nauru\", \"San Marino\", \"Italy\",...\n",
            "$ Timestamp                <dttm> 2016-03-27 00:53:11, 2016-04-04 01:39:02,...\n",
            "$ Clicked_on_Ad            <dbl> 0, 0, 0, 0, 0, 0, 0, 1, 0, 0, 1, 0, 1, 0, ...\n"
          ],
          "name": "stdout"
        }
      ]
    },
    {
      "cell_type": "code",
      "metadata": {
        "id": "4IBJAfitMkHj",
        "colab_type": "code",
        "colab": {},
        "outputId": "44718ffa-8305-4202-8bcf-67a2cb061122"
      },
      "source": [
        "# Converting the target and Male varible as factor\n",
        "\n",
        "adv$Clicked_on_Ad = factor(adv$Clicked_on_Ad, levels = c(0,1))\n",
        "adv$Male = factor(adv$Male, levels = c(0,1))\n",
        "\n",
        "sapply(adv, class)"
      ],
      "execution_count": 0,
      "outputs": [
        {
          "output_type": "display_data",
          "data": {
            "text/html": [
              "<dl>\n",
              "\t<dt>$Daily_Time_Spent_on_Site</dt>\n",
              "\t\t<dd>'numeric'</dd>\n",
              "\t<dt>$Age</dt>\n",
              "\t\t<dd>'numeric'</dd>\n",
              "\t<dt>$Area_Income</dt>\n",
              "\t\t<dd>'numeric'</dd>\n",
              "\t<dt>$Daily_Internet_Usage</dt>\n",
              "\t\t<dd>'numeric'</dd>\n",
              "\t<dt>$Ad_Topic_Line</dt>\n",
              "\t\t<dd>'character'</dd>\n",
              "\t<dt>$City</dt>\n",
              "\t\t<dd>'character'</dd>\n",
              "\t<dt>$Male</dt>\n",
              "\t\t<dd>'factor'</dd>\n",
              "\t<dt>$Country</dt>\n",
              "\t\t<dd>'character'</dd>\n",
              "\t<dt>$Timestamp</dt>\n",
              "\t\t<dd><ol class=list-inline>\n",
              "\t<li>'POSIXct'</li>\n",
              "\t<li>'POSIXt'</li>\n",
              "</ol>\n",
              "</dd>\n",
              "\t<dt>$Clicked_on_Ad</dt>\n",
              "\t\t<dd>'factor'</dd>\n",
              "</dl>\n"
            ],
            "text/latex": "\\begin{description}\n\\item[\\$Daily\\_Time\\_Spent\\_on\\_Site] 'numeric'\n\\item[\\$Age] 'numeric'\n\\item[\\$Area\\_Income] 'numeric'\n\\item[\\$Daily\\_Internet\\_Usage] 'numeric'\n\\item[\\$Ad\\_Topic\\_Line] 'character'\n\\item[\\$City] 'character'\n\\item[\\$Male] 'factor'\n\\item[\\$Country] 'character'\n\\item[\\$Timestamp] \\begin{enumerate*}\n\\item 'POSIXct'\n\\item 'POSIXt'\n\\end{enumerate*}\n\n\\item[\\$Clicked\\_on\\_Ad] 'factor'\n\\end{description}\n",
            "text/markdown": "$Daily_Time_Spent_on_Site\n:   'numeric'\n$Age\n:   'numeric'\n$Area_Income\n:   'numeric'\n$Daily_Internet_Usage\n:   'numeric'\n$Ad_Topic_Line\n:   'character'\n$City\n:   'character'\n$Male\n:   'factor'\n$Country\n:   'character'\n$Timestamp\n:   1. 'POSIXct'\n2. 'POSIXt'\n\n\n\n$Clicked_on_Ad\n:   'factor'\n\n\n",
            "text/plain": [
              "$Daily_Time_Spent_on_Site\n",
              "[1] \"numeric\"\n",
              "\n",
              "$Age\n",
              "[1] \"numeric\"\n",
              "\n",
              "$Area_Income\n",
              "[1] \"numeric\"\n",
              "\n",
              "$Daily_Internet_Usage\n",
              "[1] \"numeric\"\n",
              "\n",
              "$Ad_Topic_Line\n",
              "[1] \"character\"\n",
              "\n",
              "$City\n",
              "[1] \"character\"\n",
              "\n",
              "$Male\n",
              "[1] \"factor\"\n",
              "\n",
              "$Country\n",
              "[1] \"character\"\n",
              "\n",
              "$Timestamp\n",
              "[1] \"POSIXct\" \"POSIXt\" \n",
              "\n",
              "$Clicked_on_Ad\n",
              "[1] \"factor\"\n"
            ]
          },
          "metadata": {
            "tags": []
          }
        }
      ]
    },
    {
      "cell_type": "code",
      "metadata": {
        "id": "NcdyLHH9MkHs",
        "colab_type": "code",
        "colab": {}
      },
      "source": [
        "# Splitting the dataset"
      ],
      "execution_count": 0,
      "outputs": []
    },
    {
      "cell_type": "code",
      "metadata": {
        "id": "ex4gX-aIMkHw",
        "colab_type": "code",
        "colab": {}
      },
      "source": [
        ""
      ],
      "execution_count": 0,
      "outputs": []
    },
    {
      "cell_type": "code",
      "metadata": {
        "id": "dZ3V0lYjMkHz",
        "colab_type": "code",
        "colab": {}
      },
      "source": [
        ""
      ],
      "execution_count": 0,
      "outputs": []
    },
    {
      "cell_type": "code",
      "metadata": {
        "id": "-IbcHQL2MkH3",
        "colab_type": "code",
        "colab": {}
      },
      "source": [
        ""
      ],
      "execution_count": 0,
      "outputs": []
    },
    {
      "cell_type": "code",
      "metadata": {
        "id": "dAvxgo6RMkH7",
        "colab_type": "code",
        "colab": {}
      },
      "source": [
        ""
      ],
      "execution_count": 0,
      "outputs": []
    },
    {
      "cell_type": "code",
      "metadata": {
        "id": "2sZFRuyUMkIC",
        "colab_type": "code",
        "colab": {}
      },
      "source": [
        ""
      ],
      "execution_count": 0,
      "outputs": []
    },
    {
      "cell_type": "code",
      "metadata": {
        "id": "vSRBDNC4MkIH",
        "colab_type": "code",
        "colab": {}
      },
      "source": [
        ""
      ],
      "execution_count": 0,
      "outputs": []
    },
    {
      "cell_type": "code",
      "metadata": {
        "id": "Po4FqWz-MkIN",
        "colab_type": "code",
        "colab": {}
      },
      "source": [
        ""
      ],
      "execution_count": 0,
      "outputs": []
    },
    {
      "cell_type": "code",
      "metadata": {
        "id": "sFD9qH2CMkIR",
        "colab_type": "code",
        "colab": {}
      },
      "source": [
        ""
      ],
      "execution_count": 0,
      "outputs": []
    },
    {
      "cell_type": "code",
      "metadata": {
        "id": "UJpBr0qGMkIU",
        "colab_type": "code",
        "colab": {}
      },
      "source": [
        ""
      ],
      "execution_count": 0,
      "outputs": []
    },
    {
      "cell_type": "code",
      "metadata": {
        "id": "0aLdemWtMkIY",
        "colab_type": "code",
        "colab": {}
      },
      "source": [
        ""
      ],
      "execution_count": 0,
      "outputs": []
    },
    {
      "cell_type": "code",
      "metadata": {
        "id": "E-wWnBBUMkIc",
        "colab_type": "code",
        "colab": {}
      },
      "source": [
        ""
      ],
      "execution_count": 0,
      "outputs": []
    },
    {
      "cell_type": "code",
      "metadata": {
        "id": "_m7LNbPIMkIf",
        "colab_type": "code",
        "colab": {}
      },
      "source": [
        ""
      ],
      "execution_count": 0,
      "outputs": []
    },
    {
      "cell_type": "code",
      "metadata": {
        "id": "Gg6HIk2JMkIl",
        "colab_type": "code",
        "colab": {}
      },
      "source": [
        ""
      ],
      "execution_count": 0,
      "outputs": []
    },
    {
      "cell_type": "code",
      "metadata": {
        "id": "pMuVHQLPMkIu",
        "colab_type": "code",
        "colab": {}
      },
      "source": [
        ""
      ],
      "execution_count": 0,
      "outputs": []
    },
    {
      "cell_type": "code",
      "metadata": {
        "id": "ZsuMuBcYMkIx",
        "colab_type": "code",
        "colab": {}
      },
      "source": [
        ""
      ],
      "execution_count": 0,
      "outputs": []
    }
  ]
}